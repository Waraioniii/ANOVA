{
 "cells": [
  {
   "cell_type": "code",
   "execution_count": 65,
   "id": "2588765e",
   "metadata": {
    "scrolled": true
   },
   "outputs": [
    {
     "name": "stdout",
     "output_type": "stream",
     "text": [
      "Requirement already satisfied: statsmodels in c:\\users\\учеба\\appdata\\local\\programs\\python\\python39\\lib\\site-packages (0.13.5)\n",
      "Requirement already satisfied: scipy>=1.3 in c:\\users\\учеба\\appdata\\local\\programs\\python\\python39\\lib\\site-packages (from statsmodels) (1.9.3)\n",
      "Requirement already satisfied: pandas>=0.25 in c:\\users\\учеба\\appdata\\local\\programs\\python\\python39\\lib\\site-packages (from statsmodels) (1.5.2)\n",
      "Requirement already satisfied: patsy>=0.5.2 in c:\\users\\учеба\\appdata\\local\\programs\\python\\python39\\lib\\site-packages (from statsmodels) (0.5.3)\n",
      "Requirement already satisfied: numpy>=1.17 in c:\\users\\учеба\\appdata\\local\\programs\\python\\python39\\lib\\site-packages (from statsmodels) (1.23.4)\n",
      "Requirement already satisfied: packaging>=21.3 in c:\\users\\учеба\\appdata\\local\\programs\\python\\python39\\lib\\site-packages (from statsmodels) (21.3)\n",
      "Requirement already satisfied: pyparsing!=3.0.5,>=2.0.2 in c:\\users\\учеба\\appdata\\local\\programs\\python\\python39\\lib\\site-packages (from packaging>=21.3->statsmodels) (3.0.9)\n",
      "Requirement already satisfied: pytz>=2020.1 in c:\\users\\учеба\\appdata\\local\\programs\\python\\python39\\lib\\site-packages (from pandas>=0.25->statsmodels) (2022.6)\n",
      "Requirement already satisfied: python-dateutil>=2.8.1 in c:\\users\\учеба\\appdata\\local\\programs\\python\\python39\\lib\\site-packages (from pandas>=0.25->statsmodels) (2.8.2)\n",
      "Requirement already satisfied: six in c:\\users\\учеба\\appdata\\local\\programs\\python\\python39\\lib\\site-packages (from patsy>=0.5.2->statsmodels) (1.16.0)\n"
     ]
    }
   ],
   "source": [
    "import numpy as np\n",
    "import sys\n",
    "import pandas as pd \n",
    "import matplotlib.pyplot as plt \n",
    "import scipy.stats as stats\n",
    "from scipy import stats, optimize, interpolate\n",
    "import statsmodels.api as sm\n",
    "from statsmodels.formula.api import ols\n",
    "from scipy. stats import f_oneway\n",
    "from statsmodels. stats.multicomp import pairwise_tukeyhsd"
   ]
  },
  {
   "cell_type": "code",
   "execution_count": 66,
   "id": "21a7c62f",
   "metadata": {},
   "outputs": [
    {
     "data": {
      "text/html": [
       "<div>\n",
       "<style scoped>\n",
       "    .dataframe tbody tr th:only-of-type {\n",
       "        vertical-align: middle;\n",
       "    }\n",
       "\n",
       "    .dataframe tbody tr th {\n",
       "        vertical-align: top;\n",
       "    }\n",
       "\n",
       "    .dataframe thead th {\n",
       "        text-align: right;\n",
       "    }\n",
       "</style>\n",
       "<table border=\"1\" class=\"dataframe\">\n",
       "  <thead>\n",
       "    <tr style=\"text-align: right;\">\n",
       "      <th></th>\n",
       "      <th>bmi</th>\n",
       "      <th>region</th>\n",
       "    </tr>\n",
       "  </thead>\n",
       "  <tbody>\n",
       "    <tr>\n",
       "      <th>0</th>\n",
       "      <td>27.900</td>\n",
       "      <td>southwest</td>\n",
       "    </tr>\n",
       "    <tr>\n",
       "      <th>1</th>\n",
       "      <td>33.770</td>\n",
       "      <td>southeast</td>\n",
       "    </tr>\n",
       "    <tr>\n",
       "      <th>2</th>\n",
       "      <td>33.000</td>\n",
       "      <td>southeast</td>\n",
       "    </tr>\n",
       "    <tr>\n",
       "      <th>3</th>\n",
       "      <td>22.705</td>\n",
       "      <td>northwest</td>\n",
       "    </tr>\n",
       "    <tr>\n",
       "      <th>4</th>\n",
       "      <td>28.880</td>\n",
       "      <td>northwest</td>\n",
       "    </tr>\n",
       "    <tr>\n",
       "      <th>...</th>\n",
       "      <td>...</td>\n",
       "      <td>...</td>\n",
       "    </tr>\n",
       "    <tr>\n",
       "      <th>1333</th>\n",
       "      <td>30.970</td>\n",
       "      <td>northwest</td>\n",
       "    </tr>\n",
       "    <tr>\n",
       "      <th>1334</th>\n",
       "      <td>31.920</td>\n",
       "      <td>northeast</td>\n",
       "    </tr>\n",
       "    <tr>\n",
       "      <th>1335</th>\n",
       "      <td>36.850</td>\n",
       "      <td>southeast</td>\n",
       "    </tr>\n",
       "    <tr>\n",
       "      <th>1336</th>\n",
       "      <td>25.800</td>\n",
       "      <td>southwest</td>\n",
       "    </tr>\n",
       "    <tr>\n",
       "      <th>1337</th>\n",
       "      <td>29.070</td>\n",
       "      <td>northwest</td>\n",
       "    </tr>\n",
       "  </tbody>\n",
       "</table>\n",
       "<p>1338 rows × 2 columns</p>\n",
       "</div>"
      ],
      "text/plain": [
       "         bmi     region\n",
       "0     27.900  southwest\n",
       "1     33.770  southeast\n",
       "2     33.000  southeast\n",
       "3     22.705  northwest\n",
       "4     28.880  northwest\n",
       "...      ...        ...\n",
       "1333  30.970  northwest\n",
       "1334  31.920  northeast\n",
       "1335  36.850  southeast\n",
       "1336  25.800  southwest\n",
       "1337  29.070  northwest\n",
       "\n",
       "[1338 rows x 2 columns]"
      ]
     },
     "execution_count": 66,
     "metadata": {},
     "output_type": "execute_result"
    }
   ],
   "source": [
    "#Загружаем датасет insurance.csv и проводим сортировку по региону\n",
    "data = pd.read_csv('insurance.csv')\n",
    "dataForAnova = pd.DataFrame(data, columns=['bmi', 'region'])\n",
    "bmi = np.array(data['bmi'])\n",
    "region = ['northeast', 'northwest', 'southeast', 'southwest']\n",
    "dataForAnova"
   ]
  },
  {
   "cell_type": "code",
   "execution_count": 67,
   "id": "2db99481",
   "metadata": {},
   "outputs": [
    {
     "data": {
      "text/html": [
       "<div>\n",
       "<style scoped>\n",
       "    .dataframe tbody tr th:only-of-type {\n",
       "        vertical-align: middle;\n",
       "    }\n",
       "\n",
       "    .dataframe tbody tr th {\n",
       "        vertical-align: top;\n",
       "    }\n",
       "\n",
       "    .dataframe thead th {\n",
       "        text-align: right;\n",
       "    }\n",
       "</style>\n",
       "<table border=\"1\" class=\"dataframe\">\n",
       "  <thead>\n",
       "    <tr style=\"text-align: right;\">\n",
       "      <th></th>\n",
       "      <th>bmi</th>\n",
       "      <th>region</th>\n",
       "    </tr>\n",
       "  </thead>\n",
       "  <tbody>\n",
       "    <tr>\n",
       "      <th>0</th>\n",
       "      <td>27.900</td>\n",
       "      <td>southwest</td>\n",
       "    </tr>\n",
       "    <tr>\n",
       "      <th>1</th>\n",
       "      <td>33.770</td>\n",
       "      <td>southeast</td>\n",
       "    </tr>\n",
       "    <tr>\n",
       "      <th>2</th>\n",
       "      <td>33.000</td>\n",
       "      <td>southeast</td>\n",
       "    </tr>\n",
       "    <tr>\n",
       "      <th>3</th>\n",
       "      <td>22.705</td>\n",
       "      <td>northwest</td>\n",
       "    </tr>\n",
       "    <tr>\n",
       "      <th>4</th>\n",
       "      <td>28.880</td>\n",
       "      <td>northwest</td>\n",
       "    </tr>\n",
       "  </tbody>\n",
       "</table>\n",
       "</div>"
      ],
      "text/plain": [
       "      bmi     region\n",
       "0  27.900  southwest\n",
       "1  33.770  southeast\n",
       "2  33.000  southeast\n",
       "3  22.705  northwest\n",
       "4  28.880  northwest"
      ]
     },
     "execution_count": 67,
     "metadata": {},
     "output_type": "execute_result"
    }
   ],
   "source": [
    "#Однофакторный ANOVA тест\n",
    "groups = dataForAnova.groupby('region').groups\n",
    "groups\n",
    "\n",
    "northeast = bmi[groups['northeast']]\n",
    "northwest = bmi[groups['northwest']]\n",
    "southeast = bmi[groups['southeast']]\n",
    "southwest = bmi[groups['southwest']]\n",
    "\n",
    "dataForAnova.head()\n"
   ]
  },
  {
   "cell_type": "code",
   "execution_count": 68,
   "id": "dfa0df59",
   "metadata": {},
   "outputs": [
    {
     "name": "stdout",
     "output_type": "stream",
     "text": [
      "                sum_sq      df          F        PR(>F)\n",
      "region     4055.880631     3.0  39.495057  1.881839e-24\n",
      "Residual  45664.319755  1334.0        NaN           NaN\n"
     ]
    }
   ],
   "source": [
    "# Однофакторный ANOVA тест через способо anova_lm\n",
    "model = ols('bmi ~ region', data = dataForAnova).fit()\n",
    "anova_result = sm.stats.anova_lm(model, typ = 2)\n",
    "print(anova_result)"
   ]
  },
  {
   "cell_type": "code",
   "execution_count": 69,
   "id": "0cb554a7",
   "metadata": {},
   "outputs": [
    {
     "name": "stdout",
     "output_type": "stream",
     "text": [
      "northeast northwest\n",
      "Ttest_indResult(statistic=-0.060307727183293185, pvalue=0.951929170821864)\n",
      "northeast southeast\n",
      "Ttest_indResult(statistic=-8.790905562598699, pvalue=1.186014937424813e-17)\n",
      "northeast southwest\n",
      "Ttest_indResult(statistic=-3.1169000930045923, pvalue=0.0019086161671573074)\n",
      "northwest southeast\n",
      "Ttest_indResult(statistic=-9.25649013552548, pvalue=2.643571405230106e-19)\n",
      "northwest southwest\n",
      "Ttest_indResult(statistic=-3.2844171500398582, pvalue=0.001076958496307695)\n",
      "southeast southwest\n",
      "Ttest_indResult(statistic=5.908373821545118, pvalue=5.4374009639680636e-09)\n"
     ]
    }
   ],
   "source": [
    "# Определяем Бонфферони через t критерий Стьюдента\n",
    "region_paris = []\n",
    "\n",
    "for region1 in range(3):\n",
    "    for region2 in range(region1 + 1, 4):\n",
    "        region_paris.append((region[region1], region[region2]))\n",
    "        \n",
    "region_paris\n",
    "\n",
    "for region1, region2 in region_paris:\n",
    "    print(region1, region2)\n",
    "    print(stats.ttest_ind(bmi[groups[region1]], bmi[groups[region2]]))"
   ]
  },
  {
   "cell_type": "code",
   "execution_count": 72,
   "id": "b116bfa0",
   "metadata": {},
   "outputs": [
    {
     "data": {
      "text/html": [
       "<table class=\"simpletable\">\n",
       "<caption>Multiple Comparison of Means - Tukey HSD, FWER=0.05</caption>\n",
       "<tr>\n",
       "   <th>group1</th>    <th>group2</th>   <th>meandiff</th>  <th>p-adj</th>  <th>lower</th>   <th>upper</th>  <th>reject</th>\n",
       "</tr>\n",
       "<tr>\n",
       "  <td>northeast</td> <td>northwest</td>  <td>0.0263</td>  <td>0.9999</td> <td>-1.1552</td> <td>1.2078</td>   <td>False</td>\n",
       "</tr>\n",
       "<tr>\n",
       "  <td>northeast</td> <td>southeast</td>  <td>4.1825</td>    <td>0.0</td>   <td>3.033</td>   <td>5.332</td>   <td>True</td> \n",
       "</tr>\n",
       "<tr>\n",
       "  <td>northeast</td> <td>southwest</td>  <td>1.4231</td>  <td>0.0107</td> <td>0.2416</td>  <td>2.6046</td>   <td>True</td> \n",
       "</tr>\n",
       "<tr>\n",
       "  <td>northwest</td> <td>southeast</td>  <td>4.1562</td>    <td>0.0</td>  <td>3.0077</td>  <td>5.3047</td>   <td>True</td> \n",
       "</tr>\n",
       "<tr>\n",
       "  <td>northwest</td> <td>southwest</td>  <td>1.3968</td>  <td>0.0127</td> <td>0.2162</td>  <td>2.5774</td>   <td>True</td> \n",
       "</tr>\n",
       "<tr>\n",
       "  <td>southeast</td> <td>southwest</td>  <td>-2.7594</td>   <td>0.0</td>  <td>-3.9079</td> <td>-1.6108</td>  <td>True</td> \n",
       "</tr>\n",
       "</table>"
      ],
      "text/plain": [
       "<class 'statsmodels.iolib.table.SimpleTable'>"
      ]
     },
     "execution_count": 72,
     "metadata": {},
     "output_type": "execute_result"
    },
    {
     "data": {
      "image/png": "[encoded data removed]",
      "text/plain": [
       "<Figure size 1000x600 with 1 Axes>"
      ]
     },
     "metadata": {},
     "output_type": "display_data"
    }
   ],
   "source": [
    "# Пост-хок тесты Тьюки  построение графика\n",
    "tukey = pairwise_tukeyhsd(endog = data['bmi'], groups = data['region'], alpha = 0.05)\n",
    "tukey.plot_simultaneous()\n",
    "tukey.summary()"
   ]
  },
  {
   "cell_type": "code",
   "execution_count": 73,
   "id": "99d29c6a",
   "metadata": {},
   "outputs": [
    {
     "data": {
      "text/html": [
       "<div>\n",
       "<style scoped>\n",
       "    .dataframe tbody tr th:only-of-type {\n",
       "        vertical-align: middle;\n",
       "    }\n",
       "\n",
       "    .dataframe tbody tr th {\n",
       "        vertical-align: top;\n",
       "    }\n",
       "\n",
       "    .dataframe thead th {\n",
       "        text-align: right;\n",
       "    }\n",
       "</style>\n",
       "<table border=\"1\" class=\"dataframe\">\n",
       "  <thead>\n",
       "    <tr style=\"text-align: right;\">\n",
       "      <th></th>\n",
       "      <th>sum_sq</th>\n",
       "      <th>df</th>\n",
       "      <th>F</th>\n",
       "      <th>PR(&gt;F)</th>\n",
       "    </tr>\n",
       "  </thead>\n",
       "  <tbody>\n",
       "    <tr>\n",
       "      <th>region</th>\n",
       "      <td>4034.975135</td>\n",
       "      <td>3.0</td>\n",
       "      <td>39.398134</td>\n",
       "      <td>2.163195e-24</td>\n",
       "    </tr>\n",
       "    <tr>\n",
       "      <th>sex</th>\n",
       "      <td>86.007035</td>\n",
       "      <td>1.0</td>\n",
       "      <td>2.519359</td>\n",
       "      <td>1.126940e-01</td>\n",
       "    </tr>\n",
       "    <tr>\n",
       "      <th>region:sex</th>\n",
       "      <td>174.157808</td>\n",
       "      <td>3.0</td>\n",
       "      <td>1.700504</td>\n",
       "      <td>1.650655e-01</td>\n",
       "    </tr>\n",
       "    <tr>\n",
       "      <th>Residual</th>\n",
       "      <td>45404.154911</td>\n",
       "      <td>1330.0</td>\n",
       "      <td>NaN</td>\n",
       "      <td>NaN</td>\n",
       "    </tr>\n",
       "  </tbody>\n",
       "</table>\n",
       "</div>"
      ],
      "text/plain": [
       "                  sum_sq      df          F        PR(>F)\n",
       "region       4034.975135     3.0  39.398134  2.163195e-24\n",
       "sex            86.007035     1.0   2.519359  1.126940e-01\n",
       "region:sex    174.157808     3.0   1.700504  1.650655e-01\n",
       "Residual    45404.154911  1330.0        NaN           NaN"
      ]
     },
     "execution_count": 73,
     "metadata": {},
     "output_type": "execute_result"
    }
   ],
   "source": [
    "# Двухфакторный ANOVA тест, используя anova_lm\n",
    "model = ols('bmi ~ region + sex + region:sex', data = data).fit()\n",
    "sm.stats.anova_lm(model, typ = 2)"
   ]
  },
  {
   "cell_type": "code",
   "execution_count": 74,
   "id": "2067f0d9",
   "metadata": {},
   "outputs": [],
   "source": [
    "data['combination'] = data.region + \"/\" + data.sex"
   ]
  },
  {
   "cell_type": "code",
   "execution_count": 75,
   "id": "a31bb747",
   "metadata": {},
   "outputs": [
    {
     "data": {
      "text/html": [
       "<table class=\"simpletable\">\n",
       "<caption>Multiple Comparison of Means - Tukey HSD, FWER=0.05</caption>\n",
       "<tr>\n",
       "       <th>group1</th>           <th>group2</th>      <th>meandiff</th>  <th>p-adj</th>  <th>lower</th>   <th>upper</th>  <th>reject</th>\n",
       "</tr>\n",
       "<tr>\n",
       "  <td>northeast/female</td>  <td>northeast/male</td>   <td>-0.2998</td> <td>0.9998</td> <td>-2.2706</td> <td>1.6711</td>   <td>False</td>\n",
       "</tr>\n",
       "<tr>\n",
       "  <td>northeast/female</td> <td>northwest/female</td>  <td>-0.0464</td>   <td>1.0</td>  <td>-2.0142</td> <td>1.9215</td>   <td>False</td>\n",
       "</tr>\n",
       "<tr>\n",
       "  <td>northeast/female</td>  <td>northwest/male</td>   <td>-0.2042</td>   <td>1.0</td>  <td>-2.1811</td> <td>1.7728</td>   <td>False</td>\n",
       "</tr>\n",
       "<tr>\n",
       "  <td>northeast/female</td> <td>southeast/female</td>  <td>3.3469</td>    <td>0.0</td>   <td>1.41</td>   <td>5.2839</td>   <td>True</td> \n",
       "</tr>\n",
       "<tr>\n",
       "  <td>northeast/female</td>  <td>southeast/male</td>   <td>4.6657</td>    <td>0.0</td>  <td>2.7634</td>   <td>6.568</td>   <td>True</td> \n",
       "</tr>\n",
       "<tr>\n",
       "  <td>northeast/female</td> <td>southwest/female</td>  <td>0.7362</td>  <td>0.9497</td> <td>-1.2377</td>  <td>2.71</td>    <td>False</td>\n",
       "</tr>\n",
       "<tr>\n",
       "  <td>northeast/female</td>  <td>southwest/male</td>   <td>1.8051</td>  <td>0.1007</td> <td>-0.1657</td>  <td>3.776</td>   <td>False</td>\n",
       "</tr>\n",
       "<tr>\n",
       "   <td>northeast/male</td>  <td>northwest/female</td>  <td>0.2534</td>  <td>0.9999</td> <td>-1.7083</td> <td>2.2152</td>   <td>False</td>\n",
       "</tr>\n",
       "<tr>\n",
       "   <td>northeast/male</td>   <td>northwest/male</td>   <td>0.0956</td>    <td>1.0</td>  <td>-1.8752</td> <td>2.0665</td>   <td>False</td>\n",
       "</tr>\n",
       "<tr>\n",
       "   <td>northeast/male</td>  <td>southeast/female</td>  <td>3.6467</td>    <td>0.0</td>  <td>1.7159</td>  <td>5.5775</td>   <td>True</td> \n",
       "</tr>\n",
       "<tr>\n",
       "   <td>northeast/male</td>   <td>southeast/male</td>   <td>4.9655</td>    <td>0.0</td>  <td>3.0695</td>  <td>6.8614</td>   <td>True</td> \n",
       "</tr>\n",
       "<tr>\n",
       "   <td>northeast/male</td>  <td>southwest/female</td>   <td>1.036</td>  <td>0.7515</td> <td>-0.9318</td> <td>3.0037</td>   <td>False</td>\n",
       "</tr>\n",
       "<tr>\n",
       "   <td>northeast/male</td>   <td>southwest/male</td>   <td>2.1049</td>  <td>0.0258</td> <td>0.1402</td>  <td>4.0697</td>   <td>True</td> \n",
       "</tr>\n",
       "<tr>\n",
       "  <td>northwest/female</td>  <td>northwest/male</td>   <td>-0.1578</td>   <td>1.0</td>  <td>-2.1257</td>  <td>1.81</td>    <td>False</td>\n",
       "</tr>\n",
       "<tr>\n",
       "  <td>northwest/female</td> <td>southeast/female</td>  <td>3.3933</td>    <td>0.0</td>  <td>1.4656</td>   <td>5.321</td>   <td>True</td> \n",
       "</tr>\n",
       "<tr>\n",
       "  <td>northwest/female</td>  <td>southeast/male</td>    <td>4.712</td>    <td>0.0</td>  <td>2.8192</td>  <td>6.6049</td>   <td>True</td> \n",
       "</tr>\n",
       "<tr>\n",
       "  <td>northwest/female</td> <td>southwest/female</td>  <td>0.7825</td>  <td>0.9294</td> <td>-1.1822</td> <td>2.7473</td>   <td>False</td>\n",
       "</tr>\n",
       "<tr>\n",
       "  <td>northwest/female</td>  <td>southwest/male</td>   <td>1.8515</td>  <td>0.0806</td> <td>-0.1103</td> <td>3.8132</td>   <td>False</td>\n",
       "</tr>\n",
       "<tr>\n",
       "   <td>northwest/male</td>  <td>southeast/female</td>  <td>3.5511</td>    <td>0.0</td>  <td>1.6141</td>  <td>5.4881</td>   <td>True</td> \n",
       "</tr>\n",
       "<tr>\n",
       "   <td>northwest/male</td>   <td>southeast/male</td>   <td>4.8698</td>    <td>0.0</td>  <td>2.9676</td>  <td>6.7721</td>   <td>True</td> \n",
       "</tr>\n",
       "<tr>\n",
       "   <td>northwest/male</td>  <td>southwest/female</td>  <td>0.9403</td>  <td>0.8354</td> <td>-1.0335</td> <td>2.9142</td>   <td>False</td>\n",
       "</tr>\n",
       "<tr>\n",
       "   <td>northwest/male</td>   <td>southwest/male</td>   <td>2.0093</td>   <td>0.042</td> <td>0.0385</td>  <td>3.9801</td>   <td>True</td> \n",
       "</tr>\n",
       "<tr>\n",
       "  <td>southeast/female</td>  <td>southeast/male</td>   <td>1.3187</td>  <td>0.3823</td> <td>-0.542</td>  <td>3.1795</td>   <td>False</td>\n",
       "</tr>\n",
       "<tr>\n",
       "  <td>southeast/female</td> <td>southwest/female</td>  <td>-2.6108</td> <td>0.0011</td> <td>-4.5446</td> <td>-0.6769</td>  <td>True</td> \n",
       "</tr>\n",
       "<tr>\n",
       "  <td>southeast/female</td>  <td>southwest/male</td>   <td>-1.5418</td> <td>0.2304</td> <td>-3.4726</td>  <td>0.389</td>   <td>False</td>\n",
       "</tr>\n",
       "<tr>\n",
       "   <td>southeast/male</td>  <td>southwest/female</td>  <td>-3.9295</td>   <td>0.0</td>  <td>-5.8286</td> <td>-2.0304</td>  <td>True</td> \n",
       "</tr>\n",
       "<tr>\n",
       "   <td>southeast/male</td>   <td>southwest/male</td>   <td>-2.8606</td> <td>0.0001</td> <td>-4.7565</td> <td>-0.9646</td>  <td>True</td> \n",
       "</tr>\n",
       "<tr>\n",
       "  <td>southwest/female</td>  <td>southwest/male</td>    <td>1.069</td>  <td>0.7201</td> <td>-0.8988</td> <td>3.0367</td>   <td>False</td>\n",
       "</tr>\n",
       "</table>"
      ],
      "text/plain": [
       "<class 'statsmodels.iolib.table.SimpleTable'>"
      ]
     },
     "execution_count": 75,
     "metadata": {},
     "output_type": "execute_result"
    },
    {
     "data": {
      "image/png": "[encoded data removed]",
      "text/plain": [
       "<Figure size 1000x600 with 1 Axes>"
      ]
     },
     "metadata": {},
     "output_type": "display_data"
    }
   ],
   "source": [
    "# Пост-хок тесты Тьюки  построение графика\n",
    "tukey = pairwise_tukeyhsd(endog = data['bmi'], groups = data['combination'], alpha = 0.05)\n",
    "tukey.plot_simultaneous()\n",
    "tukey.summary()"
   ]
  },
  {
   "cell_type": "code",
   "execution_count": null,
   "id": "f9e4db95",
   "metadata": {},
   "outputs": [],
   "source": []
  }
 ],
 "metadata": {
  "kernelspec": {
   "display_name": "Python 3 (ipykernel)",
   "language": "python",
   "name": "python3"
  },
  "language_info": {
   "codemirror_mode": {
    "name": "ipython",
    "version": 3
   },
   "file_extension": ".py",
   "mimetype": "text/x-python",
   "name": "python",
   "nbconvert_exporter": "python",
   "pygments_lexer": "ipython3",
   "version": "3.9.13"
  }
 },
 "nbformat": 4,
 "nbformat_minor": 5
}
